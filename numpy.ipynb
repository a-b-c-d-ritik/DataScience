{
 "cells": [
  {
   "cell_type": "code",
   "execution_count": 2,
   "id": "fb060a03",
   "metadata": {},
   "outputs": [
    {
     "name": "stdout",
     "output_type": "stream",
     "text": [
      "Collecting numpy\n",
      "  Downloading numpy-2.2.6-cp310-cp310-win_amd64.whl.metadata (60 kB)\n",
      "Downloading numpy-2.2.6-cp310-cp310-win_amd64.whl (12.9 MB)\n",
      "   ---------------------------------------- 0.0/12.9 MB ? eta -:--:--\n",
      "    --------------------------------------- 0.3/12.9 MB ? eta -:--:--\n",
      "   --- ------------------------------------ 1.0/12.9 MB 2.6 MB/s eta 0:00:05\n",
      "   ----- ---------------------------------- 1.8/12.9 MB 3.0 MB/s eta 0:00:04\n",
      "   -------- ------------------------------- 2.9/12.9 MB 3.5 MB/s eta 0:00:03\n",
      "   ----------- ---------------------------- 3.7/12.9 MB 3.6 MB/s eta 0:00:03\n",
      "   ------------- -------------------------- 4.5/12.9 MB 3.6 MB/s eta 0:00:03\n",
      "   ---------------- ----------------------- 5.2/12.9 MB 3.6 MB/s eta 0:00:03\n",
      "   ------------------ --------------------- 6.0/12.9 MB 3.7 MB/s eta 0:00:02\n",
      "   --------------------- ------------------ 6.8/12.9 MB 3.7 MB/s eta 0:00:02\n",
      "   ----------------------- ---------------- 7.6/12.9 MB 3.7 MB/s eta 0:00:02\n",
      "   -------------------------- ------------- 8.7/12.9 MB 3.8 MB/s eta 0:00:02\n",
      "   ----------------------------- ---------- 9.4/12.9 MB 3.8 MB/s eta 0:00:01\n",
      "   ------------------------------ --------- 10.0/12.9 MB 3.8 MB/s eta 0:00:01\n",
      "   ---------------------------------- ----- 11.3/12.9 MB 3.8 MB/s eta 0:00:01\n",
      "   ------------------------------------- -- 12.1/12.9 MB 3.8 MB/s eta 0:00:01\n",
      "   ---------------------------------------  12.8/12.9 MB 3.8 MB/s eta 0:00:01\n",
      "   ---------------------------------------- 12.9/12.9 MB 3.7 MB/s eta 0:00:00\n",
      "Installing collected packages: numpy\n",
      "Successfully installed numpy-2.2.6\n",
      "Note: you may need to restart the kernel to use updated packages.\n"
     ]
    }
   ],
   "source": [
    "pip install numpy"
   ]
  },
  {
   "cell_type": "code",
   "execution_count": null,
   "id": "b9d0cad3",
   "metadata": {},
   "outputs": [
    {
     "name": "stdout",
     "output_type": "stream",
     "text": [
      "[1 2 3 4 5]\n",
      "<class 'numpy.ndarray'>\n"
     ]
    }
   ],
   "source": [
    "import numpy as np;\n",
    "arr1=np.array([1,2,3,4,5])\n",
    "print(arr1)\n",
    "print(type(arr1))\n",
    "p"
   ]
  }
 ],
 "metadata": {
  "kernelspec": {
   "display_name": "Python 3",
   "language": "python",
   "name": "python3"
  },
  "language_info": {
   "codemirror_mode": {
    "name": "ipython",
    "version": 3
   },
   "file_extension": ".py",
   "mimetype": "text/x-python",
   "name": "python",
   "nbconvert_exporter": "python",
   "pygments_lexer": "ipython3",
   "version": "3.10.17"
  }
 },
 "nbformat": 4,
 "nbformat_minor": 5
}
