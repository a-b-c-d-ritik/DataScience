{
 "cells": [
  {
   "cell_type": "code",
   "execution_count": 2,
   "id": "fb060a03",
   "metadata": {},
   "outputs": [
    {
     "name": "stdout",
     "output_type": "stream",
     "text": [
      "Collecting numpy\n",
      "  Downloading numpy-2.2.6-cp310-cp310-win_amd64.whl.metadata (60 kB)\n",
      "Downloading numpy-2.2.6-cp310-cp310-win_amd64.whl (12.9 MB)\n",
      "   ---------------------------------------- 0.0/12.9 MB ? eta -:--:--\n",
      "    --------------------------------------- 0.3/12.9 MB ? eta -:--:--\n",
      "   --- ------------------------------------ 1.0/12.9 MB 2.6 MB/s eta 0:00:05\n",
      "   ----- ---------------------------------- 1.8/12.9 MB 3.0 MB/s eta 0:00:04\n",
      "   -------- ------------------------------- 2.9/12.9 MB 3.5 MB/s eta 0:00:03\n",
      "   ----------- ---------------------------- 3.7/12.9 MB 3.6 MB/s eta 0:00:03\n",
      "   ------------- -------------------------- 4.5/12.9 MB 3.6 MB/s eta 0:00:03\n",
      "   ---------------- ----------------------- 5.2/12.9 MB 3.6 MB/s eta 0:00:03\n",
      "   ------------------ --------------------- 6.0/12.9 MB 3.7 MB/s eta 0:00:02\n",
      "   --------------------- ------------------ 6.8/12.9 MB 3.7 MB/s eta 0:00:02\n",
      "   ----------------------- ---------------- 7.6/12.9 MB 3.7 MB/s eta 0:00:02\n",
      "   -------------------------- ------------- 8.7/12.9 MB 3.8 MB/s eta 0:00:02\n",
      "   ----------------------------- ---------- 9.4/12.9 MB 3.8 MB/s eta 0:00:01\n",
      "   ------------------------------ --------- 10.0/12.9 MB 3.8 MB/s eta 0:00:01\n",
      "   ---------------------------------- ----- 11.3/12.9 MB 3.8 MB/s eta 0:00:01\n",
      "   ------------------------------------- -- 12.1/12.9 MB 3.8 MB/s eta 0:00:01\n",
      "   ---------------------------------------  12.8/12.9 MB 3.8 MB/s eta 0:00:01\n",
      "   ---------------------------------------- 12.9/12.9 MB 3.7 MB/s eta 0:00:00\n",
      "Installing collected packages: numpy\n",
      "Successfully installed numpy-2.2.6\n",
      "Note: you may need to restart the kernel to use updated packages.\n"
     ]
    }
   ],
   "source": [
    "pip install numpy"
   ]
  },
  {
   "cell_type": "code",
   "execution_count": 5,
   "id": "b9d0cad3",
   "metadata": {},
   "outputs": [
    {
     "name": "stdout",
     "output_type": "stream",
     "text": [
      "[1 2 3 4 5]\n",
      "<class 'numpy.ndarray'>\n",
      "(5,)\n"
     ]
    }
   ],
   "source": [
    "import numpy as np;\n",
    "arr1=np.array([1,2,3,4,5])\n",
    "print(arr1)\n",
    "print(type(arr1))\n",
    "print(arr1.shape)"
   ]
  },
  {
   "cell_type": "code",
   "execution_count": 12,
   "id": "cd0539d6",
   "metadata": {},
   "outputs": [
    {
     "name": "stdout",
     "output_type": "stream",
     "text": [
      "{1, 3, 5, 7, 9}\n",
      "[1 3 5 7 9]\n",
      "1\n",
      "2\n",
      "[[1 2 3]\n",
      " [4 5 6]\n",
      " [7 8 9]]\n"
     ]
    }
   ],
   "source": [
    "arr2=np.array({1,3,5,7,9})\n",
    "print(arr2)\n",
    "arr3=np.array((1,3,5,7,9))\n",
    "print(arr3)\n",
    "#arr3.reshape()\n",
    "print(arr3.ndim)\n",
    "arr4=np.array(([1,2,3],[4,5,6],[7,8,9]))\n",
    "print(arr4.ndim)\n",
    "print(arr4)"
   ]
  },
  {
   "cell_type": "code",
   "execution_count": 18,
   "id": "36059710",
   "metadata": {},
   "outputs": [
    {
     "name": "stdout",
     "output_type": "stream",
     "text": [
      "[[1 2 3 4 5]] \n",
      " 2\n",
      "(1, 5)\n",
      "[[1 2 3 4 5]] \n",
      " 2\n",
      "(2, 3) \n",
      " [[1 2 3]\n",
      " [4 5 6]]\n"
     ]
    }
   ],
   "source": [
    "#2d array\n",
    "arr2d=np.array([[1,2,3,4,5]])# no of'[' se pehchno\n",
    "print(arr2d,\"\\n\",arr2d.ndim)\n",
    "#arr2d.reshape(1,5)\n",
    "print(arr2d.shape)\n",
    "print(arr2d,\"\\n\",arr2d.ndim)\n",
    "\n",
    "arrx=np.array([[1,2,3],[4,5,6]])\n",
    "print(arrx.shape,\"\\n\",arrx)"
   ]
  },
  {
   "cell_type": "code",
   "execution_count": null,
   "id": "6f33d285",
   "metadata": {},
   "outputs": [
    {
     "name": "stdout",
     "output_type": "stream",
     "text": [
      "<module 'numpy' from 'c:\\\\Projects\\\\DataScience\\\\venv\\\\lib\\\\site-packages\\\\numpy\\\\__init__.py'>\n",
      "[[1. 1. 1. 1.]\n",
      " [1. 1. 1. 1.]\n",
      " [1. 1. 1. 1.]\n",
      " [1. 1. 1. 1.]]\n",
      "[[1. 0. 0.]\n",
      " [0. 1. 0.]\n",
      " [0. 0. 1.]]\n"
     ]
    }
   ],
   "source": [
    "print(np)\n",
    "\n",
    "#np.arange(0,1,2,3).reshape(4,1)\n",
    "t=np.ones((4,4))\n",
    "print(t)\n",
    "#identity matrix\n",
    "i=np.eye(3)\n",
    "print(i)\n"
   ]
  },
  {
   "cell_type": "code",
   "execution_count": null,
   "id": "d2395c12",
   "metadata": {},
   "outputs": [
    {
     "name": "stdout",
     "output_type": "stream",
     "text": [
      "float64\n",
      "8\n"
     ]
    }
   ],
   "source": [
    "print(t.dtype)\n",
    "print(t.itemsize)  #no of elements "
   ]
  },
  {
   "cell_type": "code",
   "execution_count": 36,
   "id": "73f7cf66",
   "metadata": {},
   "outputs": [
    {
     "name": "stdout",
     "output_type": "stream",
     "text": [
      "add res= [11 22 33 44 55]\n",
      "diff res= [ -9 -18 -27 -36 -45]\n",
      "product res= [ 10  40  90 160 250]\n",
      "div res= [0.1 0.1 0.1 0.1 0.1]\n"
     ]
    }
   ],
   "source": [
    "#numpy vectorized operation\n",
    "arr1=np.array([1,2,3,4,5])\n",
    "arr2=np.array([10,20,30,40,50])\n",
    "\n",
    "#element wise(same index) add,sub\n",
    "print(\"add res=\",arr1+arr2)\n",
    "print(\"diff res=\",arr1-arr2)\n",
    "print(\"product res=\",arr1*arr2)\n",
    "print(\"div res=\",arr1/arr2)"
   ]
  },
  {
   "cell_type": "code",
   "execution_count": 44,
   "id": "eba8a005",
   "metadata": {},
   "outputs": [
    {
     "name": "stdout",
     "output_type": "stream",
     "text": [
      "[1.         1.41421356 1.73205081 2.         2.23606798]\n",
      "1\n",
      "4\n",
      "9\n",
      "16\n",
      "25\n",
      "[  2.71828183   7.3890561   20.08553692  54.59815003 148.4131591 ]\n",
      "[ 0.84147098  0.90929743  0.14112001 -0.7568025  -0.95892427] \n",
      " [ 0.54030231 -0.41614684 -0.9899925  -0.65364362  0.28366219] \n",
      " [ 1.55740772 -2.18503986 -0.14254654  1.15782128 -3.38051501]\n",
      "[0.         0.69314718 1.09861229 1.38629436 1.60943791]\n"
     ]
    }
   ],
   "source": [
    "#universal fn\n",
    "a1=np.array([1,2,3,4,5])\n",
    "#sq root\n",
    "print(np.sqrt(a1))\n",
    "\n",
    "for i in range(5):\n",
    "    print(np.pow(a1[i],2))\n",
    "\n",
    "print( np.exp(a1))\n",
    "print(np.sin(a1),\"\\n\",np.cos(a1),\"\\n\",np.tan(a1))\n",
    "print(np.log(a1))"
   ]
  },
  {
   "cell_type": "code",
   "execution_count": 55,
   "id": "9b5d1f85",
   "metadata": {},
   "outputs": [
    {
     "name": "stdout",
     "output_type": "stream",
     "text": [
      "[[1 2 3]\n",
      " [4 5 6]\n",
      " [7 8 9]]\n",
      "1\n",
      "2\n",
      "3\n",
      "4\n",
      "5\n",
      "6\n",
      "7\n",
      "8\n",
      "9\n"
     ]
    },
    {
     "data": {
      "text/plain": [
       "array([[5, 6],\n",
       "       [8, 9]])"
      ]
     },
     "execution_count": 55,
     "metadata": {},
     "output_type": "execute_result"
    }
   ],
   "source": [
    "#array slicing and indexing\n",
    "arrnew=np.array([[1,2,3],[4,5,6],[7,8,9]])\n",
    "print(arrnew)\n",
    "\n",
    "for i in range(3):\n",
    "    for j in range(3):\n",
    "     print(arrnew[i][j])\n",
    "\n",
    "#slicing\n",
    "arrnew[1:,2]\n",
    "\n",
    "arrnew[0:2,1:]\n",
    "arrnew[1:3,1:]"
   ]
  },
  {
   "cell_type": "code",
   "execution_count": 58,
   "id": "ea482c23",
   "metadata": {},
   "outputs": [
    {
     "name": "stdout",
     "output_type": "stream",
     "text": [
      "[[100   2   3]\n",
      " [  4   5   6]\n",
      " [  7   8   9]]\n"
     ]
    }
   ],
   "source": [
    "#array modify\n",
    "arrnew[0,0]=100\n",
    "print(arrnew)"
   ]
  },
  {
   "cell_type": "code",
   "execution_count": null,
   "id": "91c6f397",
   "metadata": {},
   "outputs": [
    {
     "ename": "AttributeError",
     "evalue": "module 'numpy' has no attribute 'v'",
     "output_type": "error",
     "traceback": [
      "\u001b[1;31m---------------------------------------------------------------------------\u001b[0m",
      "\u001b[1;31mAttributeError\u001b[0m                            Traceback (most recent call last)",
      "Cell \u001b[1;32mIn[60], line 8\u001b[0m\n\u001b[0;32m      6\u001b[0m mean\u001b[38;5;241m=\u001b[39mnp\u001b[38;5;241m.\u001b[39mmean(data)\n\u001b[0;32m      7\u001b[0m stdev\u001b[38;5;241m=\u001b[39mnp\u001b[38;5;241m.\u001b[39mstd(data)\n\u001b[1;32m----> 8\u001b[0m vare\u001b[38;5;241m=\u001b[39m\u001b[43mnp\u001b[49m\u001b[38;5;241;43m.\u001b[39;49m\u001b[43mv\u001b[49m(data)\n\u001b[0;32m     10\u001b[0m normalize_data\u001b[38;5;241m=\u001b[39m(data\u001b[38;5;241m-\u001b[39mmean)\u001b[38;5;241m/\u001b[39mstdev\n\u001b[0;32m     11\u001b[0m \u001b[38;5;28mprint\u001b[39m(normalize_data)\n",
      "File \u001b[1;32mc:\\Projects\\DataScience\\venv\\lib\\site-packages\\numpy\\__init__.py:427\u001b[0m, in \u001b[0;36m__getattr__\u001b[1;34m(attr)\u001b[0m\n\u001b[0;32m    424\u001b[0m     \u001b[38;5;28;01mimport\u001b[39;00m\u001b[38;5;250m \u001b[39m\u001b[38;5;21;01mnumpy\u001b[39;00m\u001b[38;5;21;01m.\u001b[39;00m\u001b[38;5;21;01mchar\u001b[39;00m\u001b[38;5;250m \u001b[39m\u001b[38;5;28;01mas\u001b[39;00m\u001b[38;5;250m \u001b[39m\u001b[38;5;21;01mchar\u001b[39;00m\n\u001b[0;32m    425\u001b[0m     \u001b[38;5;28;01mreturn\u001b[39;00m char\u001b[38;5;241m.\u001b[39mchararray\n\u001b[1;32m--> 427\u001b[0m \u001b[38;5;28;01mraise\u001b[39;00m \u001b[38;5;167;01mAttributeError\u001b[39;00m(\u001b[38;5;124m\"\u001b[39m\u001b[38;5;124mmodule \u001b[39m\u001b[38;5;132;01m{!r}\u001b[39;00m\u001b[38;5;124m has no attribute \u001b[39m\u001b[38;5;124m\"\u001b[39m\n\u001b[0;32m    428\u001b[0m                      \u001b[38;5;124m\"\u001b[39m\u001b[38;5;132;01m{!r}\u001b[39;00m\u001b[38;5;124m\"\u001b[39m\u001b[38;5;241m.\u001b[39mformat(\u001b[38;5;18m__name__\u001b[39m, attr))\n",
      "\u001b[1;31mAttributeError\u001b[0m: module 'numpy' has no attribute 'v'"
     ]
    }
   ],
   "source": [
    "#statistical concept\n",
    "#--normalization\n",
    "data=np.array([1,2,3,4,5])\n",
    "\n",
    "#calculating mean and std deviation\n",
    "mean=np.mean(data)\n",
    "stdev=np.std(data)\n",
    "#vare=np.v(data)\n",
    "\n",
    "normalize_data=(data-mean)/stdev\n",
    "print(normalize_data)"
   ]
  },
  {
   "cell_type": "code",
   "execution_count": 63,
   "id": "73c1a513",
   "metadata": {},
   "outputs": [
    {
     "data": {
      "text/plain": [
       "array([], dtype=int64)"
      ]
     },
     "execution_count": 63,
     "metadata": {},
     "output_type": "execute_result"
    }
   ],
   "source": [
    "#logical operation\n",
    "\n",
    "data>=5\n",
    "data[data>5]"
   ]
  }
 ],
 "metadata": {
  "kernelspec": {
   "display_name": "Python 3",
   "language": "python",
   "name": "python3"
  },
  "language_info": {
   "codemirror_mode": {
    "name": "ipython",
    "version": 3
   },
   "file_extension": ".py",
   "mimetype": "text/x-python",
   "name": "python",
   "nbconvert_exporter": "python",
   "pygments_lexer": "ipython3",
   "version": "3.10.17"
  }
 },
 "nbformat": 4,
 "nbformat_minor": 5
}
