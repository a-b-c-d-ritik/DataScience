{
 "cells": [
  {
   "cell_type": "code",
   "execution_count": 1,
   "id": "f7090f50",
   "metadata": {},
   "outputs": [],
   "source": [
    "import logging;"
   ]
  },
  {
   "cell_type": "code",
   "execution_count": 4,
   "id": "48dd3703",
   "metadata": {},
   "outputs": [],
   "source": [
    "#configure basic logging settings\n",
    "logging.basicConfig(level=logging.DEBUG)"
   ]
  },
  {
   "cell_type": "code",
   "execution_count": 4,
   "id": "561f7bd5",
   "metadata": {},
   "outputs": [],
   "source": [
    "#log messages with different severity levels\n",
    "def log():\n",
    "    logging.debug(\"This is a debug message\")\n",
    "    logging.info(\"This is a info message\")\n",
    "    logging.warning(\"This is a warning message\")\n",
    "    logging.error(\"This is a error message\")\n",
    "    logging.critical(\"This is a critical message\")\n",
    "\n",
    "log()"
   ]
  },
  {
   "cell_type": "code",
   "execution_count": null,
   "id": "97efc28e",
   "metadata": {},
   "outputs": [],
   "source": [
    "#configuring logging\n",
    "logging.basicConfig(\n",
    "    filename='app.log',\n",
    "    filemode='w',\n",
    "    level=logging.DEBUG,\n",
    "    format='%(asctime)s-%(name)s-%(levelname)s-%(message)s',\n",
    "    datefmt='%Y-%m-%d %H:%M:%S'\n",
    ")\n",
    "\n",
    "log()\n",
    "#restart kernel"
   ]
  }
 ],
 "metadata": {
  "kernelspec": {
   "display_name": "base",
   "language": "python",
   "name": "python3"
  },
  "language_info": {
   "codemirror_mode": {
    "name": "ipython",
    "version": 3
   },
   "file_extension": ".py",
   "mimetype": "text/x-python",
   "name": "python",
   "nbconvert_exporter": "python",
   "pygments_lexer": "ipython3",
   "version": "3.12.3"
  }
 },
 "nbformat": 4,
 "nbformat_minor": 5
}
