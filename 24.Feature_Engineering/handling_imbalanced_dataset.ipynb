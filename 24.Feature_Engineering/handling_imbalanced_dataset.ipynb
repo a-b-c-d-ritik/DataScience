{
 "cells": [
  {
   "cell_type": "markdown",
   "id": "8b40507a",
   "metadata": {},
   "source": [
    "handling imbalanced dataset \n",
    "->techniques\n",
    "\n",
    "1.Up sampling\n",
    "2.Downsampling\n",
    "\n"
   ]
  },
  {
   "cell_type": "code",
   "execution_count": 2,
   "id": "b17cb04c",
   "metadata": {},
   "outputs": [],
   "source": [
    "import numpy as np\n",
    "import pandas as pd\n",
    "\n",
    "#setting a random seed of reproductivity\n",
    "# for random selecting values\n",
    "np.random.seed(123)\n",
    "\n",
    "\n",
    "#create a dataframe with 2 classes\n",
    "n_samples=1000\n",
    "class_0_ratio=0.9\n",
    "n_class_0=int(n_samples*class_0_ratio)\n",
    "n_class_1=n_samples-n_class_0\n"
   ]
  },
  {
   "cell_type": "code",
   "execution_count": 3,
   "id": "a25f8fae",
   "metadata": {},
   "outputs": [
    {
     "data": {
      "text/plain": [
       "(900, 100)"
      ]
     },
     "execution_count": 3,
     "metadata": {},
     "output_type": "execute_result"
    }
   ],
   "source": [
    "n_class_0,n_class_1"
   ]
  },
  {
   "cell_type": "code",
   "execution_count": null,
   "id": "668a1931",
   "metadata": {},
   "outputs": [],
   "source": [
    "#creating my dataframe with imbalanced dataset\n",
    "\n",
    "class_0=pd.DataFrame({\n",
    "    'feature_1' : np.random.normal(loc=0,scale=0,scale=n_class_0),\n",
    "    'feature_2' : np.random.normal(loc=0,scale=0,scale=n_class_0),\n",
    "    'target' :[0]*n_class_0\n",
    "})\n",
    "\n",
    "class_1=pd.DataFrame({\n",
    "    'feature_1' : np.random.normal(loc=2,scale=1,scale=n_class_1),\n",
    "    'feature_2' : np.random.normal(loc=2,scale=1,scale=n_class_1),\n",
    "    'target' :[1]*n_class_1\n",
    "})"
   ]
  }
 ],
 "metadata": {
  "kernelspec": {
   "display_name": "base",
   "language": "python",
   "name": "python3"
  },
  "language_info": {
   "codemirror_mode": {
    "name": "ipython",
    "version": 3
   },
   "file_extension": ".py",
   "mimetype": "text/x-python",
   "name": "python",
   "nbconvert_exporter": "python",
   "pygments_lexer": "ipython3",
   "version": "3.12.3"
  }
 },
 "nbformat": 4,
 "nbformat_minor": 5
}
