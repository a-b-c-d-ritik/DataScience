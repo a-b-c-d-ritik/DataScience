{
 "cells": [
  {
   "cell_type": "code",
   "execution_count": 1,
   "id": "2cd3e994",
   "metadata": {},
   "outputs": [],
   "source": [
    "#5 Number summary and box plot\n",
    "import numpy as np"
   ]
  },
  {
   "cell_type": "code",
   "execution_count": 2,
   "id": "10638da7",
   "metadata": {},
   "outputs": [],
   "source": [
    "first_marks=[12,34,34,23,55,54,47,98,57,95,44,55,66,4,31,45]\n",
    "min,q1,median,q2,max=np.quantile(first_marks,[0,0.25,0.5,0.75,1.0])\n"
   ]
  },
  {
   "cell_type": "code",
   "execution_count": 3,
   "id": "1119ba52",
   "metadata": {},
   "outputs": [
    {
     "name": "stdout",
     "output_type": "stream",
     "text": [
      "4.0 \n",
      " 33.25 \n",
      " 46.0 \n",
      " 55.5 \n",
      " 98.0\n"
     ]
    }
   ],
   "source": [
    "print(min,\"\\n\",q1,\"\\n\",median,\"\\n\",q2,\"\\n\",max)"
   ]
  },
  {
   "cell_type": "code",
   "execution_count": 4,
   "id": "bae445ac",
   "metadata": {},
   "outputs": [
    {
     "name": "stdout",
     "output_type": "stream",
     "text": [
      "22.25\n"
     ]
    }
   ],
   "source": [
    "IQR=q2-q1\n",
    "print(IQR)"
   ]
  },
  {
   "cell_type": "code",
   "execution_count": 5,
   "id": "a8a3afb6",
   "metadata": {},
   "outputs": [
    {
     "name": "stdout",
     "output_type": "stream",
     "text": [
      "-0.125 \t 88.875\n"
     ]
    }
   ],
   "source": [
    "lower_fence=q1-1.5*IQR\n",
    "higher_fence=q2+1.5*IQR\n",
    "print(lower_fence,\"\\t\",higher_fence)"
   ]
  },
  {
   "cell_type": "code",
   "execution_count": 6,
   "id": "75b8f88f",
   "metadata": {},
   "outputs": [
    {
     "data": {
      "text/plain": [
       "<Axes: >"
      ]
     },
     "execution_count": 6,
     "metadata": {},
     "output_type": "execute_result"
    },
    {
     "data": {
      "image/png": "[encoded data removed]",
      "text/plain": [
       "<Figure size 640x480 with 1 Axes>"
      ]
     },
     "metadata": {},
     "output_type": "display_data"
    }
   ],
   "source": [
    "import seaborn as sb;\n",
    "sb.boxplot(first_marks)"
   ]
  }
 ],
 "metadata": {
  "kernelspec": {
   "display_name": "base",
   "language": "python",
   "name": "python3"
  },
  "language_info": {
   "codemirror_mode": {
    "name": "ipython",
    "version": 3
   },
   "file_extension": ".py",
   "mimetype": "text/x-python",
   "name": "python",
   "nbconvert_exporter": "python",
   "pygments_lexer": "ipython3",
   "version": "3.12.3"
  }
 },
 "nbformat": 4,
 "nbformat_minor": 5
}
