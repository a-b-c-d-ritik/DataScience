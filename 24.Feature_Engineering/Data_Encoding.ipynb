{
 "cells": [
  {
   "cell_type": "code",
   "execution_count": 1,
   "id": "96edf2b6",
   "metadata": {},
   "outputs": [],
   "source": [
    "import pandas as pd\n",
    "from sklearn.preprocessing import OneHotEncoder\n"
   ]
  },
  {
   "cell_type": "code",
   "execution_count": 2,
   "id": "5679c454",
   "metadata": {},
   "outputs": [],
   "source": [
    "#creating a simple dataframe:\n",
    "\n",
    "df1=pd.DataFrame({'color':['red','blue','green','red','blue']})"
   ]
  },
  {
   "cell_type": "code",
   "execution_count": 3,
   "id": "3a3354ae",
   "metadata": {},
   "outputs": [
    {
     "name": "stdout",
     "output_type": "stream",
     "text": [
      "   color\n",
      "0    red\n",
      "1   blue\n",
      "2  green\n",
      "3    red\n",
      "4   blue\n"
     ]
    }
   ],
   "source": [
    "print(df1)"
   ]
  },
  {
   "cell_type": "code",
   "execution_count": 6,
   "id": "2f62a919",
   "metadata": {},
   "outputs": [],
   "source": [
    "#creating an instance of encoder\n",
    "encoder=OneHotEncoder()\n",
    "#perform fit transform\n",
    "encoded=encoder.fit_transform(df1[['color']]).toarray()"
   ]
  },
  {
   "cell_type": "code",
   "execution_count": 7,
   "id": "20832499",
   "metadata": {},
   "outputs": [],
   "source": [
    "encoder_df=pd.DataFrame(encoded,columns=encoder.get_feature_names_out())"
   ]
  },
  {
   "cell_type": "code",
   "execution_count": 8,
   "id": "90dc917c",
   "metadata": {},
   "outputs": [
    {
     "name": "stdout",
     "output_type": "stream",
     "text": [
      "   color_blue  color_green  color_red\n",
      "0         0.0          0.0        1.0\n",
      "1         1.0          0.0        0.0\n",
      "2         0.0          1.0        0.0\n",
      "3         0.0          0.0        1.0\n",
      "4         1.0          0.0        0.0\n"
     ]
    }
   ],
   "source": [
    "print(encoder_df)"
   ]
  },
  {
   "cell_type": "code",
   "execution_count": 14,
   "id": "8baf4f35",
   "metadata": {},
   "outputs": [
    {
     "name": "stderr",
     "output_type": "stream",
     "text": [
      "c:\\Users\\RITIK KUMAR\\anaconda3\\Lib\\site-packages\\sklearn\\base.py:493: UserWarning: X does not have valid feature names, but OneHotEncoder was fitted with feature names\n",
      "  warnings.warn(\n"
     ]
    }
   ],
   "source": [
    "#for new data\n",
    "newd=encoder.transform([['blue']]).toarray()"
   ]
  },
  {
   "cell_type": "code",
   "execution_count": 17,
   "id": "c78812ee",
   "metadata": {},
   "outputs": [
    {
     "data": {
      "text/html": [
       "<div>\n",
       "<style scoped>\n",
       "    .dataframe tbody tr th:only-of-type {\n",
       "        vertical-align: middle;\n",
       "    }\n",
       "\n",
       "    .dataframe tbody tr th {\n",
       "        vertical-align: top;\n",
       "    }\n",
       "\n",
       "    .dataframe thead th {\n",
       "        text-align: right;\n",
       "    }\n",
       "</style>\n",
       "<table border=\"1\" class=\"dataframe\">\n",
       "  <thead>\n",
       "    <tr style=\"text-align: right;\">\n",
       "      <th></th>\n",
       "      <th>color</th>\n",
       "      <th>color_blue</th>\n",
       "      <th>color_green</th>\n",
       "      <th>color_red</th>\n",
       "    </tr>\n",
       "  </thead>\n",
       "  <tbody>\n",
       "    <tr>\n",
       "      <th>0</th>\n",
       "      <td>red</td>\n",
       "      <td>0.0</td>\n",
       "      <td>0.0</td>\n",
       "      <td>1.0</td>\n",
       "    </tr>\n",
       "    <tr>\n",
       "      <th>1</th>\n",
       "      <td>blue</td>\n",
       "      <td>1.0</td>\n",
       "      <td>0.0</td>\n",
       "      <td>0.0</td>\n",
       "    </tr>\n",
       "    <tr>\n",
       "      <th>2</th>\n",
       "      <td>green</td>\n",
       "      <td>0.0</td>\n",
       "      <td>1.0</td>\n",
       "      <td>0.0</td>\n",
       "    </tr>\n",
       "    <tr>\n",
       "      <th>3</th>\n",
       "      <td>red</td>\n",
       "      <td>0.0</td>\n",
       "      <td>0.0</td>\n",
       "      <td>1.0</td>\n",
       "    </tr>\n",
       "    <tr>\n",
       "      <th>4</th>\n",
       "      <td>blue</td>\n",
       "      <td>1.0</td>\n",
       "      <td>0.0</td>\n",
       "      <td>0.0</td>\n",
       "    </tr>\n",
       "  </tbody>\n",
       "</table>\n",
       "</div>"
      ],
      "text/plain": [
       "   color  color_blue  color_green  color_red\n",
       "0    red         0.0          0.0        1.0\n",
       "1   blue         1.0          0.0        0.0\n",
       "2  green         0.0          1.0        0.0\n",
       "3    red         0.0          0.0        1.0\n",
       "4   blue         1.0          0.0        0.0"
      ]
     },
     "execution_count": 17,
     "metadata": {},
     "output_type": "execute_result"
    }
   ],
   "source": [
    "pd.concat([df1,encoder_df],axis=1)"
   ]
  },
  {
   "cell_type": "code",
   "execution_count": 18,
   "id": "010ed546",
   "metadata": {},
   "outputs": [],
   "source": [
    "## Label Encoder\n",
    "from sklearn.preprocessing import LabelEncoder\n",
    "lblencoder=LabelEncoder()"
   ]
  },
  {
   "cell_type": "code",
   "execution_count": 20,
   "id": "0079707b",
   "metadata": {},
   "outputs": [
    {
     "name": "stderr",
     "output_type": "stream",
     "text": [
      "c:\\Users\\RITIK KUMAR\\anaconda3\\Lib\\site-packages\\sklearn\\preprocessing\\_label.py:114: DataConversionWarning: A column-vector y was passed when a 1d array was expected. Please change the shape of y to (n_samples, ), for example using ravel().\n",
      "  y = column_or_1d(y, warn=True)\n"
     ]
    },
    {
     "data": {
      "text/plain": [
       "array([2, 0, 1, 2, 0])"
      ]
     },
     "execution_count": 20,
     "metadata": {},
     "output_type": "execute_result"
    }
   ],
   "source": [
    "lblencoder.fit_transform(df1[['color']])"
   ]
  },
  {
   "cell_type": "code",
   "execution_count": 22,
   "id": "3602c926",
   "metadata": {},
   "outputs": [
    {
     "name": "stdout",
     "output_type": "stream",
     "text": [
      "[2]\n",
      "[1]\n",
      "[0]\n"
     ]
    },
    {
     "name": "stderr",
     "output_type": "stream",
     "text": [
      "c:\\Users\\RITIK KUMAR\\anaconda3\\Lib\\site-packages\\sklearn\\preprocessing\\_label.py:132: DataConversionWarning: A column-vector y was passed when a 1d array was expected. Please change the shape of y to (n_samples, ), for example using ravel().\n",
      "  y = column_or_1d(y, dtype=self.classes_.dtype, warn=True)\n",
      "c:\\Users\\RITIK KUMAR\\anaconda3\\Lib\\site-packages\\sklearn\\preprocessing\\_label.py:132: DataConversionWarning: A column-vector y was passed when a 1d array was expected. Please change the shape of y to (n_samples, ), for example using ravel().\n",
      "  y = column_or_1d(y, dtype=self.classes_.dtype, warn=True)\n",
      "c:\\Users\\RITIK KUMAR\\anaconda3\\Lib\\site-packages\\sklearn\\preprocessing\\_label.py:132: DataConversionWarning: A column-vector y was passed when a 1d array was expected. Please change the shape of y to (n_samples, ), for example using ravel().\n",
      "  y = column_or_1d(y, dtype=self.classes_.dtype, warn=True)\n"
     ]
    }
   ],
   "source": [
    "print(lblencoder.transform([['red']]))\n",
    "print(lblencoder.transform([['green']]))\n",
    "print(lblencoder.transform([['blue']]))"
   ]
  },
  {
   "cell_type": "code",
   "execution_count": 23,
   "id": "e9a68f20",
   "metadata": {},
   "outputs": [],
   "source": [
    "# problem- ranks and values\n",
    "#so ordinal encoding is used\n",
    "from sklearn.preprocessing import OrdinalEncoder\n"
   ]
  },
  {
   "cell_type": "code",
   "execution_count": 24,
   "id": "6f34ca0f",
   "metadata": {},
   "outputs": [],
   "source": [
    "df2=pd.DataFrame({\n",
    "    'size':['small','medium','large','medium','small','large']\n",
    "})"
   ]
  },
  {
   "cell_type": "code",
   "execution_count": null,
   "id": "e8420887",
   "metadata": {},
   "outputs": [
    {
     "name": "stdout",
     "output_type": "stream",
     "text": [
      "     size\n",
      "0   small\n",
      "1  medium\n",
      "2   large\n",
      "3  medium\n",
      "4   small\n",
      "5   large\n"
     ]
    }
   ],
   "source": [
    "print(df2)\n",
    "# now create an instance of ordinal encoder and then fit_transform"
   ]
  },
  {
   "cell_type": "code",
   "execution_count": 28,
   "id": "c205d658",
   "metadata": {},
   "outputs": [],
   "source": [
    "encoderord=OrdinalEncoder(categories=[['small','medium','large']])"
   ]
  },
  {
   "cell_type": "code",
   "execution_count": 29,
   "id": "81b617bd",
   "metadata": {},
   "outputs": [
    {
     "data": {
      "text/plain": [
       "array([[0.],\n",
       "       [1.],\n",
       "       [2.],\n",
       "       [1.],\n",
       "       [0.],\n",
       "       [2.]])"
      ]
     },
     "execution_count": 29,
     "metadata": {},
     "output_type": "execute_result"
    }
   ],
   "source": [
    "encoderord.fit_transform(df2[['size']])"
   ]
  },
  {
   "cell_type": "code",
   "execution_count": 30,
   "id": "31b12e76",
   "metadata": {},
   "outputs": [],
   "source": [
    "## Target guided ordinal encoding\n",
    "\n",
    "df3=pd.DataFrame({\n",
    "    'city':['london','new york','patna','kolkata','thrissur','kochi'],\n",
    "    'price':[200,150,300,250,180,320]\n",
    "})"
   ]
  },
  {
   "cell_type": "code",
   "execution_count": 31,
   "id": "8664ac60",
   "metadata": {},
   "outputs": [
    {
     "name": "stdout",
     "output_type": "stream",
     "text": [
      "       city  price\n",
      "0    london    200\n",
      "1  new york    150\n",
      "2     patna    300\n",
      "3   kolkata    250\n",
      "4  thrissur    180\n",
      "5     kochi    320\n"
     ]
    }
   ],
   "source": [
    "print(df3)"
   ]
  },
  {
   "cell_type": "code",
   "execution_count": 33,
   "id": "2399b904",
   "metadata": {},
   "outputs": [],
   "source": [
    "mean_price=df3.groupby(\"city\")['price'].mean().to_dict()"
   ]
  },
  {
   "cell_type": "code",
   "execution_count": 34,
   "id": "475c362b",
   "metadata": {},
   "outputs": [
    {
     "name": "stdout",
     "output_type": "stream",
     "text": [
      "{'kochi': 320.0, 'kolkata': 250.0, 'london': 200.0, 'new york': 150.0, 'patna': 300.0, 'thrissur': 180.0}\n"
     ]
    }
   ],
   "source": [
    "print(mean_price)"
   ]
  },
  {
   "cell_type": "code",
   "execution_count": 36,
   "id": "7377f51e",
   "metadata": {},
   "outputs": [],
   "source": [
    "df3['city_encoded']=df3['city'].map(mean_price)"
   ]
  },
  {
   "cell_type": "code",
   "execution_count": 37,
   "id": "a6f40b7d",
   "metadata": {},
   "outputs": [
    {
     "name": "stdout",
     "output_type": "stream",
     "text": [
      "       city  price  city_encoded\n",
      "0    london    200         200.0\n",
      "1  new york    150         150.0\n",
      "2     patna    300         300.0\n",
      "3   kolkata    250         250.0\n",
      "4  thrissur    180         180.0\n",
      "5     kochi    320         320.0\n"
     ]
    }
   ],
   "source": [
    "print(df3)"
   ]
  }
 ],
 "metadata": {
  "kernelspec": {
   "display_name": "base",
   "language": "python",
   "name": "python3"
  },
  "language_info": {
   "codemirror_mode": {
    "name": "ipython",
    "version": 3
   },
   "file_extension": ".py",
   "mimetype": "text/x-python",
   "name": "python",
   "nbconvert_exporter": "python",
   "pygments_lexer": "ipython3",
   "version": "3.12.3"
  }
 },
 "nbformat": 4,
 "nbformat_minor": 5
}
