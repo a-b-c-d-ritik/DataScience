{
 "cells": [
  {
   "cell_type": "code",
   "execution_count": 5,
   "id": "735af8aa",
   "metadata": {},
   "outputs": [],
   "source": [
    "import pandas as pd\n",
    "import matplotlib.pyplot as plt\n",
    "import numpy as np\n",
    "#%matplotlib inline"
   ]
  },
  {
   "cell_type": "code",
   "execution_count": 6,
   "id": "6fd6f1d7",
   "metadata": {},
   "outputs": [
    {
     "name": "stdout",
     "output_type": "stream",
     "text": [
      "    Weight  Height\n",
      "0       45     120\n",
      "1       58     135\n",
      "2       48     123\n",
      "3       60     145\n",
      "4       70     160\n",
      "5       78     162\n",
      "6       80     163\n",
      "7       90     175\n",
      "8       95     182\n",
      "9       78     170\n",
      "10      82     176\n",
      "11      95     182\n",
      "12     105     175\n",
      "13     100     183\n",
      "14      85     170\n",
      "15      78     177\n",
      "16      50     140\n",
      "17      65     159\n",
      "18      76     150\n",
      "19      87     167\n",
      "20      45     129\n",
      "21      56     140\n",
      "22      72     160\n"
     ]
    }
   ],
   "source": [
    "df=pd.read_csv(\"height-weight.csv\")\n",
    "print(df)"
   ]
  },
  {
   "cell_type": "code",
   "execution_count": 10,
   "id": "aca383c5",
   "metadata": {},
   "outputs": [
    {
     "data": {
      "text/plain": [
       "<matplotlib.collections.PathCollection at 0x226c833fce0>"
      ]
     },
     "execution_count": 10,
     "metadata": {},
     "output_type": "execute_result"
    }
   ],
   "source": [
    "#scatter plot data \n",
    "plt.scatter(df['Weight'],df['Height'])"
   ]
  }
 ],
 "metadata": {
  "kernelspec": {
   "display_name": "base",
   "language": "python",
   "name": "python3"
  },
  "language_info": {
   "codemirror_mode": {
    "name": "ipython",
    "version": 3
   },
   "file_extension": ".py",
   "mimetype": "text/x-python",
   "name": "python",
   "nbconvert_exporter": "python",
   "pygments_lexer": "ipython3",
   "version": "3.12.3"
  }
 },
 "nbformat": 4,
 "nbformat_minor": 5
}
