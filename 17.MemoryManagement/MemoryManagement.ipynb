{
 "cells": [
  {
   "cell_type": "code",
   "execution_count": null,
   "id": "ed1287b7",
   "metadata": {},
   "outputs": [
    {
     "name": "stdout",
     "output_type": "stream",
     "text": [
      "2\n"
     ]
    }
   ],
   "source": [
    "#reference counting\n",
    "import sys\n",
    "a=[]\n",
    "print(sys.getrefcount(a))\n",
    "\n",
    "#ans is 2 because \n",
    "# 1. from a\n",
    "# 2. from getrefcount()"
   ]
  },
  {
   "cell_type": "code",
   "execution_count": null,
   "id": "e1921a03",
   "metadata": {},
   "outputs": [
    {
     "name": "stdout",
     "output_type": "stream",
     "text": [
      "3\n",
      "2\n"
     ]
    }
   ],
   "source": [
    "z=a\n",
    "print(sys.getrefcount(a))\n",
    "del z #-- dealocation\n",
    "print(sys.getrefcount(a))"
   ]
  },
  {
   "cell_type": "code",
   "execution_count": 5,
   "id": "5c97d7cb",
   "metadata": {},
   "outputs": [],
   "source": [
    "#garbage collection\n",
    "import gc\n",
    "\n",
    "#enable gc\n",
    "gc.enable()\n",
    "#disable\n",
    "gc.disable()"
   ]
  },
  {
   "cell_type": "code",
   "execution_count": 6,
   "id": "4f136e94",
   "metadata": {},
   "outputs": [
    {
     "data": {
      "text/plain": [
       "539"
      ]
     },
     "execution_count": 6,
     "metadata": {},
     "output_type": "execute_result"
    }
   ],
   "source": [
    "gc.enable()\n",
    "gc.collect()"
   ]
  },
  {
   "cell_type": "code",
   "execution_count": 7,
   "id": "ca3bd368",
   "metadata": {},
   "outputs": [
    {
     "name": "stdout",
     "output_type": "stream",
     "text": [
      "[{'collections': 263, 'collected': 1639, 'uncollectable': 0}, {'collections': 23, 'collected': 79, 'uncollectable': 0}, {'collections': 3, 'collected': 539, 'uncollectable': 0}]\n"
     ]
    }
   ],
   "source": [
    "#get garbage collection stats\n",
    "print(gc.get_stats())"
   ]
  },
  {
   "cell_type": "code",
   "execution_count": 10,
   "id": "e19c5419",
   "metadata": {},
   "outputs": [
    {
     "name": "stdout",
     "output_type": "stream",
     "text": [
      "[]\n"
     ]
    }
   ],
   "source": [
    "#get unreachable objects\n",
    "print(gc.garbage)"
   ]
  },
  {
   "cell_type": "code",
   "execution_count": 12,
   "id": "1ac5c990",
   "metadata": {},
   "outputs": [
    {
     "name": "stdout",
     "output_type": "stream",
     "text": [
      "object obj1 created\n",
      "object obj1 deleted\n",
      "object obj2 created\n",
      "object obj2 deleted\n",
      "object obj1 deleted\n",
      "object obj2 deleted\n"
     ]
    },
    {
     "data": {
      "text/plain": [
       "570"
      ]
     },
     "execution_count": 12,
     "metadata": {},
     "output_type": "execute_result"
    }
   ],
   "source": [
    "#memory management\n",
    "import gc\n",
    "\n",
    "class myobj:\n",
    "    def __init__(self,name):\n",
    "        self.name=name\n",
    "        print(f\"object {self.name} created\")\n",
    "    \n",
    "    def __del__(self):\n",
    "        print(f\"object {self.name} deleted\")\n",
    "        \n",
    "obj1=myobj(\"obj1\")\n",
    "obj2=myobj(\"obj2\")\n",
    "\n",
    "#circular reference\n",
    "obj1.ref=obj2\n",
    "obj2.ref=obj1\n",
    "\n",
    "del obj1\n",
    "del obj2\n",
    "\n",
    "#manually trigger the garbage collector\n",
    "gc.collect()\n"
   ]
  },
  {
   "cell_type": "code",
   "execution_count": 15,
   "id": "fcc75d89",
   "metadata": {},
   "outputs": [],
   "source": [
    "#generators for memory efficiency\n",
    "def generate_nos(n):\n",
    "    for i in range(n):\n",
    "        yield i\n",
    "\n",
    "#using generator\n",
    "    for num in generate_nos(1000):\n",
    "        print(num)\n",
    "        "
   ]
  },
  {
   "cell_type": "code",
   "execution_count": 16,
   "id": "5fb891aa",
   "metadata": {},
   "outputs": [
    {
     "name": "stdout",
     "output_type": "stream",
     "text": [
      "[Top 10]\n",
      "c:\\Users\\RITIK KUMAR\\anaconda3\\Lib\\tracemalloc.py:551: size=72 B, count=1, average=72 B\n",
      "C:\\Users\\RITIK KUMAR\\AppData\\Local\\Temp\\ipykernel_7252\\3994956930.py:4: size=72 B, count=1, average=72 B\n"
     ]
    }
   ],
   "source": [
    "#profiling memory usage with tracemalloc\n",
    "import tracemalloc\n",
    "\n",
    "def create_list():\n",
    "    return [i for i in range(100)]\n",
    "\n",
    "def main():\n",
    "    tracemalloc.start()\n",
    "    create_list()\n",
    "    snapshot=tracemalloc.take_snapshot()\n",
    "    top_stats=snapshot.statistics('lineno')\n",
    "    print('[Top 10]')\n",
    "    for stat in top_stats[:10]:\n",
    "        print(stat)\n",
    "\n",
    "\n",
    "main()"
   ]
  }
 ],
 "metadata": {
  "kernelspec": {
   "display_name": "base",
   "language": "python",
   "name": "python3"
  },
  "language_info": {
   "codemirror_mode": {
    "name": "ipython",
    "version": 3
   },
   "file_extension": ".py",
   "mimetype": "text/x-python",
   "name": "python",
   "nbconvert_exporter": "python",
   "pygments_lexer": "ipython3",
   "version": "3.12.3"
  }
 },
 "nbformat": 4,
 "nbformat_minor": 5
}
