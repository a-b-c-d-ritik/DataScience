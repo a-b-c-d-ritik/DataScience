{
 "cells": [
  {
   "cell_type": "code",
   "execution_count": null,
   "id": "39790fed",
   "metadata": {},
   "outputs": [],
   "source": [
    "#pandas\n"
   ]
  },
  {
   "cell_type": "code",
   "execution_count": 5,
   "id": "32236149",
   "metadata": {},
   "outputs": [
    {
     "name": "stdout",
     "output_type": "stream",
     "text": [
      "0    1\n",
      "1    2\n",
      "2    3\n",
      "3    4\n",
      "4    5\n",
      "dtype: int64\n",
      "<class 'pandas.core.series.Series'>\n"
     ]
    }
   ],
   "source": [
    "#series - 1d array(coloumn in table)\n",
    "import pandas as pd;\n",
    "data=[1,2,3,4,5]\n",
    "s=pd.Series(data)\n",
    "print(s)\n",
    "print(type(s))"
   ]
  },
  {
   "cell_type": "code",
   "execution_count": 9,
   "id": "1df9a8f3",
   "metadata": {},
   "outputs": [
    {
     "name": "stdout",
     "output_type": "stream",
     "text": [
      "a    1\n",
      "b    2\n",
      "c    3\n",
      "dtype: int64\n",
      "3\n"
     ]
    },
    {
     "name": "stderr",
     "output_type": "stream",
     "text": [
      "C:\\Users\\RITIK KUMAR\\AppData\\Local\\Temp\\ipykernel_97824\\1832854142.py:5: FutureWarning: Series.__getitem__ treating keys as positions is deprecated. In a future version, integer keys will always be treated as labels (consistent with DataFrame behavior). To access a value by position, use `ser.iloc[pos]`\n",
      "  print(z[2])\n"
     ]
    }
   ],
   "source": [
    "#from dictionary\n",
    "data2={'a':1,'b':2,'c':3}\n",
    "z=pd.Series(data2)\n",
    "print(z)\n",
    "print(z[2])"
   ]
  },
  {
   "cell_type": "code",
   "execution_count": 12,
   "id": "fcdddd49",
   "metadata": {},
   "outputs": [
    {
     "name": "stdout",
     "output_type": "stream",
     "text": [
      "a    10\n",
      "b    20\n",
      "c    30\n",
      "dtype: int64\n",
      "10\n"
     ]
    }
   ],
   "source": [
    "ds=[10,20,30]\n",
    "idx=['a','b','c']\n",
    "\n",
    "ns=pd.Series(ds,index=idx)\n",
    "print(ns)\n",
    "print(ns['a'])"
   ]
  },
  {
   "cell_type": "code",
   "execution_count": 18,
   "id": "e5877ee4",
   "metadata": {},
   "outputs": [
    {
     "name": "stdout",
     "output_type": "stream",
     "text": [
      "     Name   type      city\n",
      "0     ram    god  ayodhyar\n",
      "1  laxman    god  ayodhyal\n",
      "2   bhrat  human  ayodhyab\n",
      "<class 'pandas.core.frame.DataFrame'>\n",
      "2\n"
     ]
    }
   ],
   "source": [
    "#dataframe\n",
    "#create a dataframe from dictionary\n",
    "\n",
    "data3={\n",
    "    'Name':['ram','laxman','bhrat'],\n",
    "    'type':['god','god','human'],\n",
    "    'city':['ayodhyar','ayodhyal','ayodhyab']\n",
    "}\n",
    "\n",
    "df=pd.DataFrame(data3)\n",
    "print(df)\n",
    "print(type(df))\n",
    "\n",
    "import numpy as np\n",
    "np.array(df)\n",
    "print(df.ndim)"
   ]
  },
  {
   "cell_type": "code",
   "execution_count": 19,
   "id": "18f9dfdb",
   "metadata": {},
   "outputs": [
    {
     "name": "stdout",
     "output_type": "stream",
     "text": [
      "    name  age    city\n",
      "0   raju   19   patna\n",
      "1  rahul   21  ranchi\n",
      "2  pinty   17  bhopal\n"
     ]
    }
   ],
   "source": [
    "#create a df from list of dictionaries\n",
    "\n",
    "data4=[\n",
    "    {'name':\"raju\",'age':19,'city':'patna'},\n",
    "    {'name':\"rahul\",'age':21,'city':'ranchi'},\n",
    "    {'name':\"pinty\",'age':17,'city':'bhopal'}\n",
    "]\n",
    "\n",
    "df1=pd.DataFrame(data4)\n",
    "print(df1)"
   ]
  },
  {
   "cell_type": "code",
   "execution_count": 22,
   "id": "c77618a6",
   "metadata": {},
   "outputs": [
    {
     "name": "stdout",
     "output_type": "stream",
     "text": [
      "         id                                           dialogue  \\\n",
      "0  13818513  Amanda: I baked  cookies. Do you want some?\\r\\...   \n",
      "1  13728867  Olivia: Who are you voting for in this electio...   \n",
      "2  13681000  Tim: Hi, what's up?\\r\\nKim: Bad mood tbh, I wa...   \n",
      "3  13730747  Edward: Rachel, I think I'm in ove with Bella....   \n",
      "4  13728094  Sam: hey  overheard rick say something\\r\\nSam:...   \n",
      "5  13716343  Neville: Hi there, does anyone remember what d...   \n",
      "6  13611672  John: Ave. Was there any homework for tomorrow...   \n",
      "7  13730463  Sarah: I found a song on youtube and I think y...   \n",
      "8  13809976  Noah: When and where are we meeting? :)\\r\\nMad...   \n",
      "9  13809912  Matt: Do you want to go for date?\\r\\nAgnes: Wo...   \n",
      "\n",
      "                                             summary  \n",
      "0  Amanda baked cookies and will bring Jerry some...  \n",
      "1  Olivia and Olivier are voting for liberals in ...  \n",
      "2  Kim may try the pomodoro technique recommended...  \n",
      "3  Edward thinks he is in love with Bella. Rachel...  \n",
      "4  Sam is confused, because he overheard Rick com...  \n",
      "5  Wyatt reminds Neville his wedding anniversary ...  \n",
      "6  John didn't show up for class due to some work...  \n",
      "7  Sarah sends James an instrumental song he migh...  \n",
      "8  Noah wants to meet, he quit his job, because h...  \n",
      "9  Matt invites Agnes for a date to get to know e...  \n"
     ]
    }
   ],
   "source": [
    "#csv\n",
    "samsung=pd.read_csv('samsum-train.csv')\n",
    "print(samsung.head(10))"
   ]
  },
  {
   "cell_type": "code",
   "execution_count": 26,
   "id": "09e07c90",
   "metadata": {},
   "outputs": [
    {
     "data": {
      "text/plain": [
       "id                                                   13818513\n",
       "dialogue    Amanda: I baked  cookies. Do you want some?\\r\\...\n",
       "summary     Amanda baked cookies and will bring Jerry some...\n",
       "Name: 0, dtype: object"
      ]
     },
     "execution_count": 26,
     "metadata": {},
     "output_type": "execute_result"
    }
   ],
   "source": [
    "#acesing data from data frame\n",
    "samsung['id']\n",
    "samsung.loc[0]\n",
    "samsung.iloc[0]"
   ]
  },
  {
   "cell_type": "code",
   "execution_count": 32,
   "id": "1994f0c9",
   "metadata": {},
   "outputs": [
    {
     "name": "stdout",
     "output_type": "stream",
     "text": [
      "13728867\n",
      "13681000\n",
      "13730747\n",
      "13728094\n",
      "Kim may try the pomodoro technique recommended by Tim to get more stuff done.\n"
     ]
    }
   ],
   "source": [
    "#accessingspecified element\n",
    "samsung['id']\n",
    "samsung.at[1,'id']\n",
    "for i in range(1,5):\n",
    "    print(samsung.at[i,'id'])\n",
    "\n",
    "print(samsung.iat[2,2])"
   ]
  },
  {
   "cell_type": "code",
   "execution_count": 40,
   "id": "1314b352",
   "metadata": {},
   "outputs": [
    {
     "name": "stdout",
     "output_type": "stream",
     "text": [
      "    name  age    city  salary\n",
      "0   raju   19   patna   50000\n",
      "1  rahul   21  ranchi    6000\n",
      "2  pinty   17  bhopal    7000\n",
      "    name  age    city\n",
      "0   raju   19   patna\n",
      "1  rahul   21  ranchi\n",
      "2  pinty   17  bhopal\n"
     ]
    }
   ],
   "source": [
    "#data manipulation with datafields\n",
    "#df1 ref\n",
    "#add a coloumn\n",
    "df1['salary']=[50000,6000,7000]\n",
    "print(df1)\n",
    "\n",
    "df1.drop('salary',axis=1)#temporary\n",
    "df1.drop('salary',axis=1,inplace=True)#permanently\n",
    "print(df1)"
   ]
  },
  {
   "cell_type": "code",
   "execution_count": 45,
   "id": "25f48bb1",
   "metadata": {},
   "outputs": [
    {
     "name": "stdout",
     "output_type": "stream",
     "text": [
      "    name  age    city\n",
      "0   raju   24   patna\n",
      "1  rahul   26  ranchi\n",
      "2  pinty   22  bhopal\n"
     ]
    }
   ],
   "source": [
    "#incrementing age\n",
    "df1['age']+=1\n",
    "print(df1)"
   ]
  },
  {
   "cell_type": "code",
   "execution_count": 47,
   "id": "8ff8e2e5",
   "metadata": {},
   "outputs": [
    {
     "name": "stdout",
     "output_type": "stream",
     "text": [
      "name    object\n",
      "age      int64\n",
      "city    object\n",
      "dtype: object\n",
      "        age\n",
      "count   3.0\n",
      "mean   24.0\n",
      "std     2.0\n",
      "min    22.0\n",
      "25%    23.0\n",
      "50%    24.0\n",
      "75%    25.0\n",
      "max    26.0\n"
     ]
    }
   ],
   "source": [
    "#display\n",
    "print(df1.dtypes)\n",
    "print(df1.describe())"
   ]
  }
 ],
 "metadata": {
  "kernelspec": {
   "display_name": "Python 3",
   "language": "python",
   "name": "python3"
  },
  "language_info": {
   "codemirror_mode": {
    "name": "ipython",
    "version": 3
   },
   "file_extension": ".py",
   "mimetype": "text/x-python",
   "name": "python",
   "nbconvert_exporter": "python",
   "pygments_lexer": "ipython3",
   "version": "3.10.17"
  }
 },
 "nbformat": 4,
 "nbformat_minor": 5
}
