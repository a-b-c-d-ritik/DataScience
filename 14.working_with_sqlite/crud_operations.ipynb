{
 "cells": [
  {
   "cell_type": "code",
   "execution_count": 1,
   "id": "34aa3282",
   "metadata": {},
   "outputs": [],
   "source": [
    "import sqlite3"
   ]
  },
  {
   "cell_type": "code",
   "execution_count": 3,
   "id": "de01778d",
   "metadata": {},
   "outputs": [
    {
     "name": "stdout",
     "output_type": "stream",
     "text": [
      "<sqlite3.Connection object at 0x000002B8D1C132E0>\n"
     ]
    }
   ],
   "source": [
    "#connect to an sqlite database\n",
    "\n",
    "connction=sqlite3.connect(\"example.db\")\n",
    "print(connction)"
   ]
  },
  {
   "cell_type": "code",
   "execution_count": 4,
   "id": "58df5ca8",
   "metadata": {},
   "outputs": [],
   "source": [
    "#create cursor\n",
    "cursor=connction.cursor()"
   ]
  },
  {
   "cell_type": "code",
   "execution_count": 5,
   "id": "142d8b1b",
   "metadata": {},
   "outputs": [],
   "source": [
    "#create table\n",
    "cursor.execute('''\n",
    "create table If Not Exists Employees(\n",
    "         id integer primary key,\n",
    "        name text not null,\n",
    "        age integer,\n",
    "        department text\n",
    "         )\n",
    "        ''')\n",
    "\n",
    "#commit\n",
    "connction.commit()"
   ]
  },
  {
   "cell_type": "code",
   "execution_count": 7,
   "id": "bd0d858c",
   "metadata": {},
   "outputs": [
    {
     "data": {
      "text/plain": [
       "<sqlite3.Cursor at 0x2b8d1d1bbc0>"
      ]
     },
     "execution_count": 7,
     "metadata": {},
     "output_type": "execute_result"
    }
   ],
   "source": [
    "cursor.execute(\"select * from employees\")"
   ]
  },
  {
   "cell_type": "code",
   "execution_count": 10,
   "id": "5bff7ad8",
   "metadata": {},
   "outputs": [
    {
     "data": {
      "text/plain": [
       "<sqlite3.Cursor at 0x2b8d1d1bbc0>"
      ]
     },
     "execution_count": 10,
     "metadata": {},
     "output_type": "execute_result"
    }
   ],
   "source": [
    "#insert records\n",
    "cursor.execute('''\n",
    "insert into employees values(693,\"Ritik\",24,\"cse\")\n",
    "               ''')"
   ]
  },
  {
   "cell_type": "code",
   "execution_count": 12,
   "id": "5fa0976b",
   "metadata": {},
   "outputs": [],
   "source": [
    "connction.commit()"
   ]
  },
  {
   "cell_type": "code",
   "execution_count": null,
   "id": "931b9bcd",
   "metadata": {},
   "outputs": [
    {
     "data": {
      "text/plain": [
       "<sqlite3.Cursor at 0x2b8d1d1bbc0>"
      ]
     },
     "execution_count": 13,
     "metadata": {},
     "output_type": "execute_result"
    }
   ],
   "source": []
  },
  {
   "cell_type": "code",
   "execution_count": 16,
   "id": "5b058e1f",
   "metadata": {},
   "outputs": [
    {
     "name": "stdout",
     "output_type": "stream",
     "text": [
      "(693, 'Ritik', 24, 'cse')\n"
     ]
    }
   ],
   "source": [
    "#querying data\n",
    "cursor.execute(\"select * from employees\")\n",
    "rows=cursor.fetchall()\n",
    "\n",
    "for row in rows:\n",
    "    print(row)"
   ]
  },
  {
   "cell_type": "code",
   "execution_count": 19,
   "id": "67f74f24",
   "metadata": {},
   "outputs": [],
   "source": [
    "#update data\n",
    "cursor.execute('''\n",
    "update employees set age=25 where name =\"Ritik\"\n",
    "''')\n",
    "\n",
    "connction.commit()"
   ]
  },
  {
   "cell_type": "code",
   "execution_count": 20,
   "id": "fa3028f9",
   "metadata": {},
   "outputs": [
    {
     "name": "stdout",
     "output_type": "stream",
     "text": [
      "(693, 'Ritik', 25, 'cse')\n"
     ]
    }
   ],
   "source": [
    "cursor.execute(\"select * from employees\")\n",
    "rows=cursor.fetchall()\n",
    "\n",
    "for row in rows:\n",
    "    print(row)"
   ]
  },
  {
   "cell_type": "code",
   "execution_count": null,
   "id": "5845c605",
   "metadata": {},
   "outputs": [
    {
     "data": {
      "text/plain": [
       "<sqlite3.Cursor at 0x2b8d1d1bbc0>"
      ]
     },
     "execution_count": 21,
     "metadata": {},
     "output_type": "execute_result"
    }
   ],
   "source": [
    "#deleting data\n",
    "cursor.execute('''\n",
    "delete from employees where age=25\n",
    "''')\n",
    "\n",
    "connction.commit()"
   ]
  },
  {
   "cell_type": "code",
   "execution_count": 22,
   "id": "c6f8cfe4",
   "metadata": {},
   "outputs": [],
   "source": [
    "cursor.execute(\"select * from employees\")\n",
    "rows=cursor.fetchall()\n",
    "\n",
    "for row in rows:\n",
    "    print(row)"
   ]
  }
 ],
 "metadata": {
  "kernelspec": {
   "display_name": "base",
   "language": "python",
   "name": "python3"
  },
  "language_info": {
   "codemirror_mode": {
    "name": "ipython",
    "version": 3
   },
   "file_extension": ".py",
   "mimetype": "text/x-python",
   "name": "python",
   "nbconvert_exporter": "python",
   "pygments_lexer": "ipython3",
   "version": "3.12.3"
  }
 },
 "nbformat": 4,
 "nbformat_minor": 5
}
