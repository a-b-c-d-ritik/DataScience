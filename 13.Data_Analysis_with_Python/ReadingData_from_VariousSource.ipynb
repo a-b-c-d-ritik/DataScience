{
 "cells": [
  {
   "cell_type": "code",
   "execution_count": 13,
   "id": "a8e2c884",
   "metadata": {},
   "outputs": [
    {
     "name": "stdout",
     "output_type": "stream",
     "text": [
      "                   userId   jobTitleName firstName  lastName dateOfJoining  \\\n",
      "city          88-052-8576  Social Worker     Mavis  Hilldrop    2020-09-20   \n",
      "phone         88-052-8576  Social Worker     Mavis  Hilldrop    2020-09-20   \n",
      "emailAddress  88-052-8576  Social Worker     Mavis  Hilldrop    2020-09-20   \n",
      "state         88-052-8576  Social Worker     Mavis  Hilldrop    2020-09-20   \n",
      "zipcode       88-052-8576  Social Worker     Mavis  Hilldrop    2020-09-20   \n",
      "\n",
      "                       contactInfo  \n",
      "city                        Dallas  \n",
      "phone                 972-454-9822  \n",
      "emailAddress  mhilldrop0@google.ca  \n",
      "state                           TX  \n",
      "zipcode                      75241  \n"
     ]
    }
   ],
   "source": [
    "import pandas as pd;\n",
    "#import io as io;\n",
    "from io import StringIO;\n",
    "\n",
    "data='''{\n",
    "    \"userId\": \"88-052-8576\",\n",
    "    \"jobTitleName\": \"Social Worker\",\n",
    "    \"firstName\": \"Mavis\",\n",
    "    \"lastName\": \"Hilldrop\",\n",
    "    \"dateOfJoining\": \"2020-09-20\",\n",
    "    \"contactInfo\": {\n",
    "      \"city\": \"Dallas\",\n",
    "      \"phone\": \"972-454-9822\",\n",
    "      \"emailAddress\": \"mhilldrop0@google.ca\",\n",
    "      \"state\": \"TX\",\n",
    "      \"zipcode\": \"75241\"\n",
    "    }}'''\n",
    "\n",
    "\n",
    "   \n",
    "jd1=pd.read_json(StringIO(data))\n",
    "print(jd1)"
   ]
  },
  {
   "cell_type": "code",
   "execution_count": 11,
   "id": "b82b1ae4",
   "metadata": {},
   "outputs": [
    {
     "ename": "ValueError",
     "evalue": "Expected object or value",
     "output_type": "error",
     "traceback": [
      "\u001b[1;31m---------------------------------------------------------------------------\u001b[0m",
      "\u001b[1;31mValueError\u001b[0m                                Traceback (most recent call last)",
      "Cell \u001b[1;32mIn[11], line 56\u001b[0m\n\u001b[0;32m      1\u001b[0m data1\u001b[38;5;241m=\u001b[39m\u001b[38;5;124m'''\u001b[39m\u001b[38;5;124m[\u001b[39m\n\u001b[0;32m      2\u001b[0m \u001b[38;5;124m  \u001b[39m\u001b[38;5;124m{\u001b[39m\n\u001b[0;32m      3\u001b[0m \u001b[38;5;124m    \u001b[39m\u001b[38;5;124m\"\u001b[39m\u001b[38;5;124muserId\u001b[39m\u001b[38;5;124m\"\u001b[39m\u001b[38;5;124m: \u001b[39m\u001b[38;5;124m\"\u001b[39m\u001b[38;5;124m88-052-8576\u001b[39m\u001b[38;5;124m\"\u001b[39m\u001b[38;5;124m,\u001b[39m\n\u001b[1;32m   (...)\u001b[0m\n\u001b[0;32m     53\u001b[0m \u001b[38;5;124m  }\u001b[39m\n\u001b[0;32m     54\u001b[0m \u001b[38;5;124m]\u001b[39m\u001b[38;5;124m'''\u001b[39m\n\u001b[1;32m---> 56\u001b[0m \u001b[43mpd\u001b[49m\u001b[38;5;241;43m.\u001b[39;49m\u001b[43mread_json\u001b[49m\u001b[43m(\u001b[49m\u001b[43mStringIO\u001b[49m\u001b[43m(\u001b[49m\u001b[43mdata1\u001b[49m\u001b[43m[\u001b[49m\u001b[38;5;241;43m0\u001b[39;49m\u001b[43m]\u001b[49m\u001b[43m)\u001b[49m\u001b[43m)\u001b[49m\n",
      "File \u001b[1;32mc:\\Projects\\DataScience\\venv\\lib\\site-packages\\pandas\\io\\json\\_json.py:815\u001b[0m, in \u001b[0;36mread_json\u001b[1;34m(path_or_buf, orient, typ, dtype, convert_axes, convert_dates, keep_default_dates, precise_float, date_unit, encoding, encoding_errors, lines, chunksize, compression, nrows, storage_options, dtype_backend, engine)\u001b[0m\n\u001b[0;32m    813\u001b[0m     \u001b[38;5;28;01mreturn\u001b[39;00m json_reader\n\u001b[0;32m    814\u001b[0m \u001b[38;5;28;01melse\u001b[39;00m:\n\u001b[1;32m--> 815\u001b[0m     \u001b[38;5;28;01mreturn\u001b[39;00m \u001b[43mjson_reader\u001b[49m\u001b[38;5;241;43m.\u001b[39;49m\u001b[43mread\u001b[49m\u001b[43m(\u001b[49m\u001b[43m)\u001b[49m\n",
      "File \u001b[1;32mc:\\Projects\\DataScience\\venv\\lib\\site-packages\\pandas\\io\\json\\_json.py:1025\u001b[0m, in \u001b[0;36mJsonReader.read\u001b[1;34m(self)\u001b[0m\n\u001b[0;32m   1023\u001b[0m         obj \u001b[38;5;241m=\u001b[39m \u001b[38;5;28mself\u001b[39m\u001b[38;5;241m.\u001b[39m_get_object_parser(\u001b[38;5;28mself\u001b[39m\u001b[38;5;241m.\u001b[39m_combine_lines(data_lines))\n\u001b[0;32m   1024\u001b[0m \u001b[38;5;28;01melse\u001b[39;00m:\n\u001b[1;32m-> 1025\u001b[0m     obj \u001b[38;5;241m=\u001b[39m \u001b[38;5;28;43mself\u001b[39;49m\u001b[38;5;241;43m.\u001b[39;49m\u001b[43m_get_object_parser\u001b[49m\u001b[43m(\u001b[49m\u001b[38;5;28;43mself\u001b[39;49m\u001b[38;5;241;43m.\u001b[39;49m\u001b[43mdata\u001b[49m\u001b[43m)\u001b[49m\n\u001b[0;32m   1026\u001b[0m \u001b[38;5;28;01mif\u001b[39;00m \u001b[38;5;28mself\u001b[39m\u001b[38;5;241m.\u001b[39mdtype_backend \u001b[38;5;129;01mis\u001b[39;00m \u001b[38;5;129;01mnot\u001b[39;00m lib\u001b[38;5;241m.\u001b[39mno_default:\n\u001b[0;32m   1027\u001b[0m     \u001b[38;5;28;01mreturn\u001b[39;00m obj\u001b[38;5;241m.\u001b[39mconvert_dtypes(\n\u001b[0;32m   1028\u001b[0m         infer_objects\u001b[38;5;241m=\u001b[39m\u001b[38;5;28;01mFalse\u001b[39;00m, dtype_backend\u001b[38;5;241m=\u001b[39m\u001b[38;5;28mself\u001b[39m\u001b[38;5;241m.\u001b[39mdtype_backend\n\u001b[0;32m   1029\u001b[0m     )\n",
      "File \u001b[1;32mc:\\Projects\\DataScience\\venv\\lib\\site-packages\\pandas\\io\\json\\_json.py:1051\u001b[0m, in \u001b[0;36mJsonReader._get_object_parser\u001b[1;34m(self, json)\u001b[0m\n\u001b[0;32m   1049\u001b[0m obj \u001b[38;5;241m=\u001b[39m \u001b[38;5;28;01mNone\u001b[39;00m\n\u001b[0;32m   1050\u001b[0m \u001b[38;5;28;01mif\u001b[39;00m typ \u001b[38;5;241m==\u001b[39m \u001b[38;5;124m\"\u001b[39m\u001b[38;5;124mframe\u001b[39m\u001b[38;5;124m\"\u001b[39m:\n\u001b[1;32m-> 1051\u001b[0m     obj \u001b[38;5;241m=\u001b[39m \u001b[43mFrameParser\u001b[49m\u001b[43m(\u001b[49m\u001b[43mjson\u001b[49m\u001b[43m,\u001b[49m\u001b[43m \u001b[49m\u001b[38;5;241;43m*\u001b[39;49m\u001b[38;5;241;43m*\u001b[39;49m\u001b[43mkwargs\u001b[49m\u001b[43m)\u001b[49m\u001b[38;5;241;43m.\u001b[39;49m\u001b[43mparse\u001b[49m\u001b[43m(\u001b[49m\u001b[43m)\u001b[49m\n\u001b[0;32m   1053\u001b[0m \u001b[38;5;28;01mif\u001b[39;00m typ \u001b[38;5;241m==\u001b[39m \u001b[38;5;124m\"\u001b[39m\u001b[38;5;124mseries\u001b[39m\u001b[38;5;124m\"\u001b[39m \u001b[38;5;129;01mor\u001b[39;00m obj \u001b[38;5;129;01mis\u001b[39;00m \u001b[38;5;28;01mNone\u001b[39;00m:\n\u001b[0;32m   1054\u001b[0m     \u001b[38;5;28;01mif\u001b[39;00m \u001b[38;5;129;01mnot\u001b[39;00m \u001b[38;5;28misinstance\u001b[39m(dtype, \u001b[38;5;28mbool\u001b[39m):\n",
      "File \u001b[1;32mc:\\Projects\\DataScience\\venv\\lib\\site-packages\\pandas\\io\\json\\_json.py:1187\u001b[0m, in \u001b[0;36mParser.parse\u001b[1;34m(self)\u001b[0m\n\u001b[0;32m   1185\u001b[0m \u001b[38;5;129m@final\u001b[39m\n\u001b[0;32m   1186\u001b[0m \u001b[38;5;28;01mdef\u001b[39;00m\u001b[38;5;250m \u001b[39m\u001b[38;5;21mparse\u001b[39m(\u001b[38;5;28mself\u001b[39m):\n\u001b[1;32m-> 1187\u001b[0m     \u001b[38;5;28;43mself\u001b[39;49m\u001b[38;5;241;43m.\u001b[39;49m\u001b[43m_parse\u001b[49m\u001b[43m(\u001b[49m\u001b[43m)\u001b[49m\n\u001b[0;32m   1189\u001b[0m     \u001b[38;5;28;01mif\u001b[39;00m \u001b[38;5;28mself\u001b[39m\u001b[38;5;241m.\u001b[39mobj \u001b[38;5;129;01mis\u001b[39;00m \u001b[38;5;28;01mNone\u001b[39;00m:\n\u001b[0;32m   1190\u001b[0m         \u001b[38;5;28;01mreturn\u001b[39;00m \u001b[38;5;28;01mNone\u001b[39;00m\n",
      "File \u001b[1;32mc:\\Projects\\DataScience\\venv\\lib\\site-packages\\pandas\\io\\json\\_json.py:1403\u001b[0m, in \u001b[0;36mFrameParser._parse\u001b[1;34m(self)\u001b[0m\n\u001b[0;32m   1399\u001b[0m orient \u001b[38;5;241m=\u001b[39m \u001b[38;5;28mself\u001b[39m\u001b[38;5;241m.\u001b[39morient\n\u001b[0;32m   1401\u001b[0m \u001b[38;5;28;01mif\u001b[39;00m orient \u001b[38;5;241m==\u001b[39m \u001b[38;5;124m\"\u001b[39m\u001b[38;5;124mcolumns\u001b[39m\u001b[38;5;124m\"\u001b[39m:\n\u001b[0;32m   1402\u001b[0m     \u001b[38;5;28mself\u001b[39m\u001b[38;5;241m.\u001b[39mobj \u001b[38;5;241m=\u001b[39m DataFrame(\n\u001b[1;32m-> 1403\u001b[0m         \u001b[43mujson_loads\u001b[49m\u001b[43m(\u001b[49m\u001b[43mjson\u001b[49m\u001b[43m,\u001b[49m\u001b[43m \u001b[49m\u001b[43mprecise_float\u001b[49m\u001b[38;5;241;43m=\u001b[39;49m\u001b[38;5;28;43mself\u001b[39;49m\u001b[38;5;241;43m.\u001b[39;49m\u001b[43mprecise_float\u001b[49m\u001b[43m)\u001b[49m, dtype\u001b[38;5;241m=\u001b[39m\u001b[38;5;28;01mNone\u001b[39;00m\n\u001b[0;32m   1404\u001b[0m     )\n\u001b[0;32m   1405\u001b[0m \u001b[38;5;28;01melif\u001b[39;00m orient \u001b[38;5;241m==\u001b[39m \u001b[38;5;124m\"\u001b[39m\u001b[38;5;124msplit\u001b[39m\u001b[38;5;124m\"\u001b[39m:\n\u001b[0;32m   1406\u001b[0m     decoded \u001b[38;5;241m=\u001b[39m {\n\u001b[0;32m   1407\u001b[0m         \u001b[38;5;28mstr\u001b[39m(k): v\n\u001b[0;32m   1408\u001b[0m         \u001b[38;5;28;01mfor\u001b[39;00m k, v \u001b[38;5;129;01min\u001b[39;00m ujson_loads(json, precise_float\u001b[38;5;241m=\u001b[39m\u001b[38;5;28mself\u001b[39m\u001b[38;5;241m.\u001b[39mprecise_float)\u001b[38;5;241m.\u001b[39mitems()\n\u001b[0;32m   1409\u001b[0m     }\n",
      "\u001b[1;31mValueError\u001b[0m: Expected object or value"
     ]
    }
   ],
   "source": [
    "data1='''[\n",
    "  {\n",
    "    \"userId\": \"88-052-8576\",\n",
    "    \"jobTitleName\": \"Social Worker\",\n",
    "    \"firstName\": \"Mavis\",\n",
    "    \"lastName\": \"Hilldrop\",\n",
    "    \"dateOfJoining\": \"2020-09-20\",\n",
    "    \"contactInfo\": {\n",
    "      \"city\": \"Dallas\",\n",
    "      \"phone\": \"972-454-9822\",\n",
    "      \"emailAddress\": \"mhilldrop0@google.ca\",\n",
    "      \"state\": \"TX\",\n",
    "      \"zipcode\": \"75241\"\n",
    "    },\n",
    "    \"children\": [\n",
    "      \"Evaleen\",\n",
    "      \"Coletta\",\n",
    "      \"Leonelle\"\n",
    "    ],\n",
    "    \"salary\": 203000\n",
    "  },\n",
    "  {\n",
    "    \"userId\": \"77-123-4567\",\n",
    "    \"jobTitleName\": \"Data Analyst\",\n",
    "    \"firstName\": \"John\",\n",
    "    \"lastName\": \"Doe\",\n",
    "    \"dateOfJoining\": \"2018-06-15\",\n",
    "    \"contactInfo\": {\n",
    "      \"city\": \"Austin\",\n",
    "      \"phone\": \"512-555-1234\",\n",
    "      \"emailAddress\": \"jdoe@example.com\",\n",
    "      \"state\": \"TX\",\n",
    "      \"zipcode\": \"73301\"\n",
    "    },\n",
    "    \"children\": [],\n",
    "    \"salary\": 95000\n",
    "  },\n",
    "  {\n",
    "    \"userId\": \"99-888-7777\",\n",
    "    \"jobTitleName\": \"Software Engineer\",\n",
    "    \"firstName\": \"Jane\",\n",
    "    \"lastName\": \"Smith\",\n",
    "    \"dateOfJoining\": \"2019-01-10\",\n",
    "    \"contactInfo\": {\n",
    "      \"city\": \"San Francisco\",\n",
    "      \"phone\": \"415-555-5678\",\n",
    "      \"emailAddress\": \"jsmith@example.com\",\n",
    "      \"state\": \"CA\",\n",
    "      \"zipcode\": \"94105\"\n",
    "    },\n",
    "    \"children\": [\"Tom\"],\n",
    "    \"salary\": 120000\n",
    "  }\n",
    "]'''\n",
    "\n",
    "pd.read_json(StringIO(data1[0]))"
   ]
  },
  {
   "cell_type": "code",
   "execution_count": 19,
   "id": "f8c4ee89",
   "metadata": {},
   "outputs": [
    {
     "name": "stdout",
     "output_type": "stream",
     "text": [
      "                   userId   jobTitleName firstName  lastName dateOfJoining  \\\n",
      "city          88-052-8576  Social Worker     Mavis  Hilldrop    2020-09-20   \n",
      "phone         88-052-8576  Social Worker     Mavis  Hilldrop    2020-09-20   \n",
      "emailAddress  88-052-8576  Social Worker     Mavis  Hilldrop    2020-09-20   \n",
      "state         88-052-8576  Social Worker     Mavis  Hilldrop    2020-09-20   \n",
      "zipcode       88-052-8576  Social Worker     Mavis  Hilldrop    2020-09-20   \n",
      "\n",
      "                       contactInfo  \n",
      "city                        Dallas  \n",
      "phone                 972-454-9822  \n",
      "emailAddress  mhilldrop0@google.ca  \n",
      "state                           TX  \n",
      "zipcode                      75241  \n",
      "[{\"userId\":\"88-052-8576\",\"jobTitleName\":\"Social Worker\",\"firstName\":\"Mavis\",\"lastName\":\"Hilldrop\",\"dateOfJoining\":\"2020-09-20\",\"contactInfo\":\"Dallas\"},{\"userId\":\"88-052-8576\",\"jobTitleName\":\"Social Worker\",\"firstName\":\"Mavis\",\"lastName\":\"Hilldrop\",\"dateOfJoining\":\"2020-09-20\",\"contactInfo\":\"972-454-9822\"},{\"userId\":\"88-052-8576\",\"jobTitleName\":\"Social Worker\",\"firstName\":\"Mavis\",\"lastName\":\"Hilldrop\",\"dateOfJoining\":\"2020-09-20\",\"contactInfo\":\"mhilldrop0@google.ca\"},{\"userId\":\"88-052-8576\",\"jobTitleName\":\"Social Worker\",\"firstName\":\"Mavis\",\"lastName\":\"Hilldrop\",\"dateOfJoining\":\"2020-09-20\",\"contactInfo\":\"TX\"},{\"userId\":\"88-052-8576\",\"jobTitleName\":\"Social Worker\",\"firstName\":\"Mavis\",\"lastName\":\"Hilldrop\",\"dateOfJoining\":\"2020-09-20\",\"contactInfo\":\"75241\"}]\n",
      "{\"city\":{\"userId\":\"88-052-8576\",\"jobTitleName\":\"Social Worker\",\"firstName\":\"Mavis\",\"lastName\":\"Hilldrop\",\"dateOfJoining\":\"2020-09-20\",\"contactInfo\":\"Dallas\"},\"phone\":{\"userId\":\"88-052-8576\",\"jobTitleName\":\"Social Worker\",\"firstName\":\"Mavis\",\"lastName\":\"Hilldrop\",\"dateOfJoining\":\"2020-09-20\",\"contactInfo\":\"972-454-9822\"},\"emailAddress\":{\"userId\":\"88-052-8576\",\"jobTitleName\":\"Social Worker\",\"firstName\":\"Mavis\",\"lastName\":\"Hilldrop\",\"dateOfJoining\":\"2020-09-20\",\"contactInfo\":\"mhilldrop0@google.ca\"},\"state\":{\"userId\":\"88-052-8576\",\"jobTitleName\":\"Social Worker\",\"firstName\":\"Mavis\",\"lastName\":\"Hilldrop\",\"dateOfJoining\":\"2020-09-20\",\"contactInfo\":\"TX\"},\"zipcode\":{\"userId\":\"88-052-8576\",\"jobTitleName\":\"Social Worker\",\"firstName\":\"Mavis\",\"lastName\":\"Hilldrop\",\"dateOfJoining\":\"2020-09-20\",\"contactInfo\":\"75241\"}}\n"
     ]
    }
   ],
   "source": [
    "print(jd1)\n",
    "#if it gives index or garbage then use (orient)\n",
    "back2json=jd1.to_json(orient='records')\n",
    "print(back2json)\n",
    "\n",
    "back2json=jd1.to_json(orient='index')\n",
    "print(back2json)"
   ]
  },
  {
   "cell_type": "code",
   "execution_count": 22,
   "id": "6f7ba8cb",
   "metadata": {},
   "outputs": [
    {
     "name": "stdout",
     "output_type": "stream",
     "text": [
      "     1  14.23  1.71  2.43  15.6  127   2.8  3.06   .28  2.29   5.64  1.04  \\\n",
      "0    1  13.20  1.78  2.14  11.2  100  2.65  2.76  0.26  1.28   4.38  1.05   \n",
      "1    1  13.16  2.36  2.67  18.6  101  2.80  3.24  0.30  2.81   5.68  1.03   \n",
      "2    1  14.37  1.95  2.50  16.8  113  3.85  3.49  0.24  2.18   7.80  0.86   \n",
      "3    1  13.24  2.59  2.87  21.0  118  2.80  2.69  0.39  1.82   4.32  1.04   \n",
      "4    1  14.20  1.76  2.45  15.2  112  3.27  3.39  0.34  1.97   6.75  1.05   \n",
      "..  ..    ...   ...   ...   ...  ...   ...   ...   ...   ...    ...   ...   \n",
      "172  3  13.71  5.65  2.45  20.5   95  1.68  0.61  0.52  1.06   7.70  0.64   \n",
      "173  3  13.40  3.91  2.48  23.0  102  1.80  0.75  0.43  1.41   7.30  0.70   \n",
      "174  3  13.27  4.28  2.26  20.0  120  1.59  0.69  0.43  1.35  10.20  0.59   \n",
      "175  3  13.17  2.59  2.37  20.0  120  1.65  0.68  0.53  1.46   9.30  0.60   \n",
      "176  3  14.13  4.10  2.74  24.5   96  2.05  0.76  0.56  1.35   9.20  0.61   \n",
      "\n",
      "     3.92  1065  \n",
      "0    3.40  1050  \n",
      "1    3.17  1185  \n",
      "2    3.45  1480  \n",
      "3    2.93   735  \n",
      "4    2.85  1450  \n",
      "..    ...   ...  \n",
      "172  1.74   740  \n",
      "173  1.56   750  \n",
      "174  1.56   835  \n",
      "175  1.62   840  \n",
      "176  1.60   560  \n",
      "\n",
      "[177 rows x 14 columns]\n"
     ]
    }
   ],
   "source": [
    "data2=pd.read_csv('wine.data')\n",
    "print(data2)"
   ]
  },
  {
   "cell_type": "code",
   "execution_count": null,
   "id": "9da325c7",
   "metadata": {},
   "outputs": [],
   "source": [
    "#create a csv on our own data or collected data\n",
    "jd1.to_csv(\"created.csv\")"
   ]
  },
  {
   "cell_type": "code",
   "execution_count": 29,
   "id": "9d3ca772",
   "metadata": {},
   "outputs": [
    {
     "name": "stdout",
     "output_type": "stream",
     "text": [
      "Collecting lxml\n",
      "  Downloading lxml-5.4.0-cp310-cp310-win_amd64.whl.metadata (3.6 kB)\n",
      "Downloading lxml-5.4.0-cp310-cp310-win_amd64.whl (3.8 MB)\n",
      "   ---------------------------------------- 0.0/3.8 MB ? eta -:--:--\n",
      "   ----------- ---------------------------- 1.0/3.8 MB 6.3 MB/s eta 0:00:01\n",
      "   ---------------- ----------------------- 1.6/3.8 MB 3.7 MB/s eta 0:00:01\n",
      "   --------------------------- ------------ 2.6/3.8 MB 4.1 MB/s eta 0:00:01\n",
      "   --------------------------------- ------ 3.1/3.8 MB 3.6 MB/s eta 0:00:01\n",
      "   ---------------------------------------- 3.8/3.8 MB 3.6 MB/s eta 0:00:00\n",
      "Installing collected packages: lxml\n",
      "Successfully installed lxml-5.4.0\n",
      "Note: you may need to restart the kernel to use updated packages.\n"
     ]
    }
   ],
   "source": [
    "pip install lxml\n"
   ]
  },
  {
   "cell_type": "code",
   "execution_count": 34,
   "id": "90f387a2",
   "metadata": {},
   "outputs": [
    {
     "name": "stdout",
     "output_type": "stream",
     "text": [
      "[                               Bank Name               City         State  \\\n",
      "0                   Pulaski Savings Bank            Chicago      Illinois   \n",
      "1     The First National Bank of Lindsay            Lindsay      Oklahoma   \n",
      "2  Republic First Bank dba Republic Bank       Philadelphia  Pennsylvania   \n",
      "3                          Citizens Bank           Sac City          Iowa   \n",
      "4               Heartland Tri-State Bank            Elkhart        Kansas   \n",
      "5                    First Republic Bank      San Francisco    California   \n",
      "6                         Signature Bank           New York      New York   \n",
      "7                    Silicon Valley Bank        Santa Clara    California   \n",
      "8                      Almena State Bank             Almena        Kansas   \n",
      "9             First City Bank of Florida  Fort Walton Beach       Florida   \n",
      "\n",
      "    Cert                Acquiring Institution      Closing Date  \\\n",
      "0  28611                      Millennium Bank  January 17, 2025   \n",
      "1   4134   First Bank & Trust Co., Duncan, OK  October 18, 2024   \n",
      "2  27332    Fulton Bank, National Association    April 26, 2024   \n",
      "3   8758            Iowa Trust & Savings Bank  November 3, 2023   \n",
      "4  25851               Dream First Bank, N.A.     July 28, 2023   \n",
      "5  59017            JPMorgan Chase Bank, N.A.       May 1, 2023   \n",
      "6  57053                  Flagstar Bank, N.A.    March 12, 2023   \n",
      "7  24735  First Citizens Bank & Trust Company    March 10, 2023   \n",
      "8  15426                          Equity Bank  October 23, 2020   \n",
      "9  16748            United Fidelity Bank, fsb  October 16, 2020   \n",
      "\n",
      "   Fund  Sort ascending  \n",
      "0                 10548  \n",
      "1                 10547  \n",
      "2                 10546  \n",
      "3                 10545  \n",
      "4                 10544  \n",
      "5                 10543  \n",
      "6                 10540  \n",
      "7                 10539  \n",
      "8                 10538  \n",
      "9                 10537  ]\n"
     ]
    },
    {
     "ename": "AttributeError",
     "evalue": "'list' object has no attribute 'to_csv'",
     "output_type": "error",
     "traceback": [
      "\u001b[1;31m---------------------------------------------------------------------------\u001b[0m",
      "\u001b[1;31mAttributeError\u001b[0m                            Traceback (most recent call last)",
      "Cell \u001b[1;32mIn[34], line 4\u001b[0m\n\u001b[0;32m      2\u001b[0m failed_banklist\u001b[38;5;241m=\u001b[39mpd\u001b[38;5;241m.\u001b[39mread_html(url)\n\u001b[0;32m      3\u001b[0m \u001b[38;5;28mprint\u001b[39m(failed_banklist)\n\u001b[1;32m----> 4\u001b[0m \u001b[43mfailed_banklist\u001b[49m\u001b[38;5;241;43m.\u001b[39;49m\u001b[43mto_csv\u001b[49m(\u001b[38;5;124m\"\u001b[39m\u001b[38;5;124mfailed_banklist.csv\u001b[39m\u001b[38;5;124m\"\u001b[39m)\n",
      "\u001b[1;31mAttributeError\u001b[0m: 'list' object has no attribute 'to_csv'"
     ]
    }
   ],
   "source": [
    "url=\"https://www.fdic.gov/bank-failures/failed-bank-list\"\n",
    "failed_banklist=pd.read_html(url)\n",
    "print(failed_banklist)\n",
    "failed_banklist.to_csv(\"failed_banklist.csv\")"
   ]
  }
 ],
 "metadata": {
  "kernelspec": {
   "display_name": "Python 3",
   "language": "python",
   "name": "python3"
  },
  "language_info": {
   "codemirror_mode": {
    "name": "ipython",
    "version": 3
   },
   "file_extension": ".py",
   "mimetype": "text/x-python",
   "name": "python",
   "nbconvert_exporter": "python",
   "pygments_lexer": "ipython3",
   "version": "3.10.17"
  }
 },
 "nbformat": 4,
 "nbformat_minor": 5
}
